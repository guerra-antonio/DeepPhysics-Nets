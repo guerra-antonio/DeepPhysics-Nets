{
 "cells": [
  {
   "cell_type": "code",
   "execution_count": 8,
   "metadata": {},
   "outputs": [],
   "source": [
    "import numpy as np\n",
    "import torch.nn as nn\n",
    "import matplotlib.pyplot as plt\n",
    "\n",
    "import random\n",
    "import torch\n",
    "\n",
    "from tqdm import tqdm\n",
    "from useful_functions import fidelity, random_state\n",
    "from data import generates_data"
   ]
  },
  {
   "cell_type": "code",
   "execution_count": 9,
   "metadata": {},
   "outputs": [],
   "source": [
    "# In this part we define the architecture for our model. We require two channel inputs for convolutional layers and, in the latent space, we introduce a scalar parameter.\n",
    "# The output is a two channel image that represents the output state, real and imaginary part.\n",
    "\n",
    "class Net(nn.Module):\n",
    "    def __init__(self):\n",
    "        super(Net, self).__init__()\n",
    "        # Convolutional layers\n",
    "        self.conv1 = nn.Conv2d(in_channels=2, out_channels=8, kernel_size=2)  # Output: 8 x 3 x 3\n",
    "        self.conv2 = nn.Conv2d(in_channels=8, out_channels=16, kernel_size=2)  # Output: 16 x 2 x 2\n",
    "        \n",
    "        # Fully connected layers\n",
    "        self.fc1 = nn.Linear(16 * 2 * 2 + 1, 32)  # Flattened vector + scalar parameter\n",
    "        self.fc2 = nn.Linear(32, 32)\n",
    "        self.fc3 = nn.Linear(32, 4 * 4 * 2)  # Output for the 4x4x2 image\n",
    "        \n",
    "    def forward(self, x, scalar_param):\n",
    "        # Convolutional layers with Tanh activation\n",
    "        x = torch.tanh(self.conv1(x))  # Output: 8 x 3 x 3\n",
    "        x = torch.tanh(self.conv2(x))  # Output: 16 x 2 x 2\n",
    "        \n",
    "        # Flatten the output of the convolutional layer\n",
    "        x = x.flatten()  # Flatten: 16*2*2 = 64\n",
    "        x = torch.cat((x, scalar_param))  # Concatenate: 64 + 1 = 65\n",
    "        \n",
    "        # Fully connected layers with Tanh activation\n",
    "        x = torch.tanh(self.fc1(x))\n",
    "        x = torch.tanh(self.fc2(x))\n",
    "        \n",
    "        # Output layer\n",
    "        x = torch.tanh(self.fc3(x))\n",
    "        \n",
    "        # Reshape to obtain the output with size 4x4x2\n",
    "        x = x.view(2, 4, 4)\n",
    "        \n",
    "        return x\n",
    "    \n",
    "model = Net()"
   ]
  },
  {
   "cell_type": "code",
   "execution_count": 10,
   "metadata": {},
   "outputs": [
    {
     "data": {
      "text/plain": [
       "<All keys matched successfully>"
      ]
     },
     "execution_count": 10,
     "metadata": {},
     "output_type": "execute_result"
    }
   ],
   "source": [
    "# For us, the model is already trained so we just have to upload the weights of the network with the saved values\n",
    "\n",
    "trained_model = torch.load('model.pth', map_location=torch.device('cpu'))\n",
    "model.load_state_dict(trained_model)"
   ]
  },
  {
   "cell_type": "code",
   "execution_count": 11,
   "metadata": {},
   "outputs": [],
   "source": [
    "# As we did in CNN_train.ipynb, we have to define the specific Hamiltonian used in the training step\n",
    "\n",
    "sigma_x = np.array([[0, 1], \n",
    "                    [1, 0]], dtype=complex)\n",
    "\n",
    "sigma_y = np.array([[0, -1j], \n",
    "                    [1j, 0]], dtype=complex)\n",
    "\n",
    "sigma_z = np.array([[1, 0], \n",
    "                    [0, -1]], dtype=complex)\n",
    "\n",
    "pauli_basis = [np.eye(2, dtype=complex), sigma_x, sigma_y, sigma_z]\n",
    "\n",
    "H = np.kron(pauli_basis[1], pauli_basis[1]) + np.kron(pauli_basis[3], pauli_basis[3])"
   ]
  },
  {
   "cell_type": "code",
   "execution_count": 12,
   "metadata": {},
   "outputs": [],
   "source": [
    "# To compute the fidelity we must adapt the outcomes of the Neural Network to construct the density matrix for, then, compute the\n",
    "# fidelity using the respective function defined in useful_functions.py\n",
    "\n",
    "def fid(prediction, target):\n",
    "    # Computes the fidelity between the predicted and target density matrices.\n",
    "    \n",
    "    # Parameters:\n",
    "    # prediction (torch.Tensor): Tensor containing the real and imaginary parts of the predicted density matrix.\n",
    "    # target (torch.Tensor): Tensor containing the real and imaginary parts of the target density matrix.\n",
    "    \n",
    "    # Returns:\n",
    "    # float: Fidelity value between the target and prediction.\n",
    "\n",
    "    # Reconstruct the predicted density matrix from its real and imaginary components\n",
    "    rho_prediction = prediction[0] + 1j * prediction[1]\n",
    "    \n",
    "    # Perform SVD to ensure rho_prediction is positive semi-definite and normalized\n",
    "    U, S, Vh = torch.linalg.svd(rho_prediction)\n",
    "    \n",
    "    # Rebuild the density matrix using the SVD result, ensuring it is Hermitian and positive semi-definite\n",
    "    rho_prediction = U @ torch.diag(torch.complex(S, torch.zeros_like(S))) @ torch.conj(U).T\n",
    "    rho_prediction = rho_prediction / torch.trace(rho_prediction)  # Normalize to ensure trace 1\n",
    "    \n",
    "    # Convert the tensor to a numpy array for fidelity calculation\n",
    "    rho_prediction = rho_prediction.detach().numpy()\n",
    "\n",
    "    # Reconstruct the target density matrix from its real and imaginary components\n",
    "    rho_target = target[0] + 1j * target[1]\n",
    "    rho_target = rho_target.detach().numpy()\n",
    "    rho_target = rho_target / np.trace(rho_target)  # Normalize the target density matrix\n",
    "\n",
    "    # Calculate fidelity using the function you defined earlier\n",
    "    return fidelity(rho_target, rho_prediction, lib=\"numpy\")"
   ]
  },
  {
   "cell_type": "code",
   "execution_count": 13,
   "metadata": {},
   "outputs": [
    {
     "name": "stderr",
     "output_type": "stream",
     "text": [
      "100%|██████████| 10000/10000 [00:01<00:00, 5050.40it/s]\n"
     ]
    }
   ],
   "source": [
    "# We generates the random data and, then, for each input we compute the respective output using our model and the theoretical evolution.\n",
    "# After that, the fidelity tell us the difference between those states. Values close to 1 means that the states are closely identical\n",
    "# and values close to 0 means that the states are completely different\n",
    "\n",
    "N_data  = 10000\n",
    "fids    = []\n",
    "\n",
    "inputs, outputs = generates_data(N_data = N_data, n_qubits = 2, Hamiltonian = H)\n",
    "\n",
    "for n_data in tqdm(range(N_data)):\n",
    "    prediction  = model(inputs[0][n_data], inputs[1][n_data])\n",
    "    target      = outputs[n_data]\n",
    "\n",
    "    fids.append(fid(prediction, target))"
   ]
  },
  {
   "cell_type": "code",
   "execution_count": 14,
   "metadata": {},
   "outputs": [
    {
     "data": {
      "image/png": "[encoded data removed]",
      "text/plain": [
       "<Figure size 640x480 with 1 Axes>"
      ]
     },
     "metadata": {},
     "output_type": "display_data"
    }
   ],
   "source": [
    "# We plot the results with a histogram that show how good is our model to describe the evolution of the states.\n",
    "\n",
    "counts, bins = np.histogram(fids)\n",
    "counts  = counts/np.sum(counts)\n",
    "\n",
    "plt.hist(bins[:-1], bins, weights=counts, color=\"red\", rwidth=0.9)\n",
    "plt.grid()\n",
    "plt.xlabel(\"Fidelity\")\n",
    "plt.ylabel(\"Percent of states\")\n",
    "plt.title(\"Histogram of fidelity for randomly choosen input quantum states\")\n",
    "\n",
    "plt.show()"
   ]
  }
 ],
 "metadata": {
  "kernelspec": {
   "display_name": "base",
   "language": "python",
   "name": "python3"
  },
  "language_info": {
   "codemirror_mode": {
    "name": "ipython",
    "version": 3
   },
   "file_extension": ".py",
   "mimetype": "text/x-python",
   "name": "python",
   "nbconvert_exporter": "python",
   "pygments_lexer": "ipython3",
   "version": "3.9.19"
  }
 },
 "nbformat": 4,
 "nbformat_minor": 2
}
