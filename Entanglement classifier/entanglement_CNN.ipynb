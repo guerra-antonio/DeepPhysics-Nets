{
 "cells": [
  {
   "cell_type": "code",
   "execution_count": 1,
   "metadata": {},
   "outputs": [],
   "source": [
    "import numpy as np\n",
    "import torch.nn as nn\n",
    "\n",
    "import random\n",
    "import torch\n",
    "\n",
    "from tqdm import tqdm\n",
    "from data import*"
   ]
  },
  {
   "cell_type": "code",
   "execution_count": 2,
   "metadata": {},
   "outputs": [],
   "source": [
    "# We define an architecture where we introduce a Quantum State the model retuns an escalar that tell us if the state is entangled or not\n",
    "\n",
    "class EntanglementNN(nn.Module):\n",
    "    def __init__(self):\n",
    "        super(EntanglementNN, self).__init__()\n",
    "\n",
    "        # Convolutional layers to extract features\n",
    "        self.conv1 = nn.Conv2d(in_channels=2, out_channels=4, kernel_size=3, padding=1)   # Output: 4 x 4 x 4\n",
    "        self.conv2 = nn.Conv2d(in_channels=4, out_channels=8, kernel_size=3, padding=1)   # Output: 8 x 4 x 4\n",
    "        self.conv3 = nn.Conv2d(in_channels=8, out_channels=16, kernel_size=3, padding=1)  # Output: 16 x 4 x 4\n",
    "\n",
    "        # Batch Normalization layers for better convergence\n",
    "        self.bn1 = nn.BatchNorm2d(4)\n",
    "        self.bn2 = nn.BatchNorm2d(8)\n",
    "        self.bn3 = nn.BatchNorm2d(16)\n",
    "\n",
    "        # Fully connected layers to process the flattened features\n",
    "        self.fc1 = nn.Linear(16 * 4 * 4, 32)  # First fully connected layer\n",
    "        self.fc2 = nn.Linear(32, 1)           # Final output layer (scalar)\n",
    "\n",
    "        # Dropout layer to reduce overfitting\n",
    "        self.dropout = nn.Dropout(0.5)\n",
    "\n",
    "        # Activation functions\n",
    "        self.relu = nn.ReLU()        # ReLU activation for hidden layers\n",
    "        self.sigmoid = nn.Sigmoid()  # Sigmoid activation for output (binary classification)\n",
    "    \n",
    "    def forward(self, x):\n",
    "        # Forward pass through the convolutional layers with BatchNorm and ReLU activation\n",
    "        x = self.relu(self.bn1(self.conv1(x)))  # Output: 4 x 4 x 4\n",
    "        x = self.relu(self.bn2(self.conv2(x)))  # Output: 8 x 4 x 4\n",
    "        x = self.relu(self.bn3(self.conv3(x)))  # Output: 16 x 4 x 4\n",
    "\n",
    "        # Flatten the feature maps before passing into the fully connected layers\n",
    "        x = x.view(x.size(0), -1)  # Output: (batch_size, 16 * 4 * 4)\n",
    "\n",
    "        # Forward pass through the fully connected layers\n",
    "        x = self.dropout(self.relu(self.fc1(x)))  # Output: 32\n",
    "        x = self.fc2(x)                           # Output: 1 (scalar)\n",
    "\n",
    "        # Apply the sigmoid activation to get the probability output\n",
    "        x = self.sigmoid(x)\n",
    "\n",
    "        return x\n",
    "\n",
    "# Instantiate the model\n",
    "model = EntanglementNN()\n"
   ]
  },
  {
   "cell_type": "code",
   "execution_count": 3,
   "metadata": {},
   "outputs": [
    {
     "data": {
      "text/plain": [
       "<All keys matched successfully>"
      ]
     },
     "execution_count": 3,
     "metadata": {},
     "output_type": "execute_result"
    }
   ],
   "source": [
    "# We load a previously trained model using Entanglement_CNN_train.ipynb\n",
    "\n",
    "trained_model = torch.load('model.pth')\n",
    "model.load_state_dict(trained_model)"
   ]
  },
  {
   "cell_type": "code",
   "execution_count": 44,
   "metadata": {},
   "outputs": [
    {
     "name": "stderr",
     "output_type": "stream",
     "text": [
      "Generating states with Peres criterion: 100%|██████████| 100000/100000 [00:41<00:00, 2418.43it/s]\n"
     ]
    },
    {
     "name": "stdout",
     "output_type": "stream",
     "text": [
      "The success ratio of our model is  64.41900000000001 %\n"
     ]
    }
   ],
   "source": [
    "# For test our model we randomly generates a bunch of 100000 states and, with the Peres criterion, we classify the states in entangled\n",
    "# and separable. Then, we use the model for the same task and then we verify if the prediction made for the model is correct or not.\n",
    "\n",
    "N_test      = 100000\n",
    "state, p    = create_dataset(N_test, criterion=\"ppt\")\n",
    "\n",
    "test_tick   = []\n",
    "check_model = torch.abs(model(state) - p)\n",
    "check_model = check_model.detach().numpy()\n",
    "check_model = check_model.flatten()\n",
    "\n",
    "checked     = check_model[ check_model > 0.01 ]\n",
    "wrong_cases = checked.shape[0]\n",
    "\n",
    "success_ratio = 1 - wrong_cases/len(p)\n",
    "\n",
    "print(\"The success ratio of our model is \", success_ratio*100,\"%\")"
   ]
  }
 ],
 "metadata": {
  "kernelspec": {
   "display_name": "base",
   "language": "python",
   "name": "python3"
  },
  "language_info": {
   "codemirror_mode": {
    "name": "ipython",
    "version": 3
   },
   "file_extension": ".py",
   "mimetype": "text/x-python",
   "name": "python",
   "nbconvert_exporter": "python",
   "pygments_lexer": "ipython3",
   "version": "3.9.19"
  }
 },
 "nbformat": 4,
 "nbformat_minor": 2
}
