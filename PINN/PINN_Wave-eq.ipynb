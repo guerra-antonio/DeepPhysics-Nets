{
 "cells": [
  {
   "cell_type": "code",
   "execution_count": 1,
   "metadata": {},
   "outputs": [],
   "source": [
    "import numpy as np\n",
    "import matplotlib.pyplot as plt\n",
    "import torch\n",
    "import torch.nn as nn"
   ]
  },
  {
   "cell_type": "code",
   "execution_count": 2,
   "metadata": {},
   "outputs": [
    {
     "name": "stdout",
     "output_type": "stream",
     "text": [
      "cpu\n"
     ]
    }
   ],
   "source": [
    "device = torch.device(\"cuda\" if torch.cuda.is_available() else \"cpu\")\n",
    "print(device)"
   ]
  },
  {
   "cell_type": "code",
   "execution_count": 3,
   "metadata": {},
   "outputs": [],
   "source": [
    "class FNC(nn.Module):\n",
    "    # Defines the Neural Network that we're going to use for train our solution\n",
    "    def __init__(self, n_input, n_output, n_hidden):\n",
    "        super().__init__()\n",
    "        self.input        = nn.Linear(n_input, n_hidden)          # Define the input later for our NN\n",
    "        self.hidden       = nn.Linear(n_hidden, n_hidden)     # Defines hidden layers for our NN \n",
    "        self.output       = nn.Linear(n_hidden, n_output)         # Define the output layer the NN\n",
    "\n",
    "    def forward(self, x, y):\n",
    "        n_layers    = 4\n",
    "        inputs      = torch.cat([x, y], axis = 1)\n",
    "\n",
    "        inputs  = self.input(inputs)\n",
    "        inputs  = torch.sin(inputs)\n",
    "        \n",
    "        for i in range(n_layers):\n",
    "            inputs = self.hidden(inputs)\n",
    "            inputs = torch.sin(inputs)\n",
    "\n",
    "        outputs = self.output(inputs)\n",
    "        outputs = torch.sin(outputs)\n",
    "        \n",
    "        return outputs"
   ]
  },
  {
   "cell_type": "code",
   "execution_count": 4,
   "metadata": {},
   "outputs": [],
   "source": [
    "torch.manual_seed(123)\n",
    "\n",
    "# Define the hyper parameters of the neural network and the system\n",
    "n_input     = 2\n",
    "n_hidden    = 50\n",
    "n_output    = 1\n",
    "\n",
    "a   = 0.3        # Velocity of the wave\n",
    "b   = 0.1\n",
    "\n",
    "N_domain    = 50\n",
    "N_bound     = 300\n",
    "N_initial   = 100\n",
    "N_train     = 15001\n",
    "\n",
    "# Define the weights for the loss function\n",
    "c1  = 1e0\n",
    "c2  = 1e0\n",
    "c3  = 1e0\n",
    "\n",
    "# Create the network\n",
    "PINN    = FNC(n_input, n_output, n_hidden)\n",
    "PINN    = PINN.to(device=device)\n",
    "\n",
    "optimizer       = torch.optim.Adam(PINN.parameters(), lr=1e-3)\n",
    "loss_values     = [[], [], []]\n",
    "\n",
    "# Define the domain for the NN\n",
    "x_domain    = torch.linspace(0, 1, N_domain, device=device)\n",
    "t_domain    = torch.linspace(0, 5, N_domain, device=device)\n",
    "t_domain, x_domain = torch.meshgrid(t_domain, x_domain, indexing='ij')\n",
    "\n",
    "x_domain    = x_domain.reshape(-1, 1).requires_grad_(True)\n",
    "t_domain    = t_domain.reshape(-1, 1).requires_grad_(True)\n",
    "\n",
    "# Define the values for the initial and boundary conditions\n",
    "# For boundary conditions\n",
    "t_bound     = torch.linspace(0, 5, N_bound, device=device).reshape(-1, 1)\n",
    "x_bound1    = torch.zeros_like(t_bound).to(device=device)\n",
    "x_bound2    = torch.ones_like(t_bound).to(device=device)\n",
    "\n",
    "# For initial condition\n",
    "x_initial   = torch.linspace(0, 1, N_initial, device=device).reshape(-1, 1)\n",
    "t_initial   = torch.zeros_like(x_initial).to(device=device)\n",
    "\n",
    "# Define the initial condition for the wave\n",
    "def initial_cond(x):\n",
    "    return 0.25*torch.sin(np.pi*x)"
   ]
  },
  {
   "cell_type": "code",
   "execution_count": 5,
   "metadata": {},
   "outputs": [
    {
     "name": "stdout",
     "output_type": "stream",
     "text": [
      "For iteration 0 the loss is given by  [2.316631317138672, 0.04647497087717056, 1.1755917072296143, 1.0945645570755005]\n",
      "For iteration 1000 the loss is given by  [0.4783877730369568, 0.02046346291899681, 0.3393508493900299, 0.11857344210147858]\n",
      "For iteration 2000 the loss is given by  [0.21396766602993011, 0.01696142554283142, 0.1788749396800995, 0.018131298944354057]\n",
      "For iteration 3000 the loss is given by  [0.16278930008411407, 0.008126051165163517, 0.14402177929878235, 0.010641468688845634]\n",
      "For iteration 4000 the loss is given by  [0.14958596229553223, 0.008808181621134281, 0.12972810864448547, 0.011049669235944748]\n",
      "For iteration 5000 the loss is given by  [0.13894310593605042, 0.0064607588574290276, 0.12553934752941132, 0.006943000480532646]\n",
      "For iteration 6000 the loss is given by  [0.11529941111803055, 0.0067029958590865135, 0.10202495753765106, 0.006571456789970398]\n",
      "For iteration 7000 the loss is given by  [0.10177440196275711, 0.005334409885108471, 0.09199409186840057, 0.004445904400199652]\n",
      "For iteration 8000 the loss is given by  [0.09190674126148224, 0.005201453808695078, 0.0831110030412674, 0.00359428976662457]\n",
      "For iteration 9000 the loss is given by  [0.09037506580352783, 0.006199180614203215, 0.08050170540809631, 0.0036741800140589476]\n",
      "For iteration 10000 the loss is given by  [0.07451380789279938, 0.004549858625978231, 0.0674445852637291, 0.0025193626061081886]\n",
      "For iteration 11000 the loss is given by  [0.0791756808757782, 0.008559035137295723, 0.06934171915054321, 0.0012749296147376299]\n",
      "For iteration 12000 the loss is given by  [0.062428396195173264, 0.0039926553145051, 0.05683073773980141, 0.001605002791620791]\n",
      "For iteration 13000 the loss is given by  [0.05815815553069115, 0.003990848548710346, 0.0524214506149292, 0.0017458577640354633]\n",
      "For iteration 14000 the loss is given by  [0.06257209181785583, 0.005183428525924683, 0.05598770081996918, 0.0014009628212079406]\n",
      "For iteration 15000 the loss is given by  [0.05105379596352577, 0.00429156981408596, 0.04578085616230965, 0.0009813725482672453]\n"
     ]
    }
   ],
   "source": [
    "# We train our NN\n",
    "\n",
    "for train in range(N_train):\n",
    "    optimizer.zero_grad()\n",
    "\n",
    "    # We compute all the necessary derivatives to model the system\n",
    "    u   = PINN(t_domain, x_domain)\n",
    "\n",
    "    dudt    = torch.autograd.grad(u, t_domain, torch.ones_like(u), create_graph=True)[0]\n",
    "    dudx    = torch.autograd.grad(u, x_domain, torch.ones_like(u), create_graph=True)[0]\n",
    "    dudt2   = torch.autograd.grad(dudt, t_domain, torch.ones_like(dudt), create_graph=True)[0]\n",
    "    dudx2   = torch.autograd.grad(dudx, x_domain, torch.ones_like(dudx), create_graph=True)[0]\n",
    "\n",
    "    # Then, define the loss function for the EDP\n",
    "    loss_edp = torch.sum((dudx2 - a*dudt2 - b*dudt)**2)\n",
    "\n",
    "    # Now, we define the loss function for the initial and boundary conditions\n",
    "    u_bound1    = PINN(t_bound, x_bound1)\n",
    "    u_bound2    = PINN(t_bound, x_bound2)\n",
    "    u_initial   = PINN(t_initial, x_initial)\n",
    "\n",
    "    loss_bound      = torch.sum((u_bound1)**2) + torch.sum((u_bound2)**2)\n",
    "    loss_initial    = torch.sum((u_initial - initial_cond(x_initial))**2)\n",
    "\n",
    "    # Finally, define the loss funtion to optimize and start the optimization process\n",
    "    loss    = c1*loss_edp + c2*loss_bound + c3*loss_initial\n",
    "    loss.backward()\n",
    "    optimizer.step()\n",
    "\n",
    "    loss_values[0].append(c1*loss_edp.item())\n",
    "    loss_values[1].append(c2*loss_bound.item())\n",
    "    loss_values[2].append(c3*loss_initial.item())\n",
    "    \n",
    "\n",
    "    if train%1000 == 0:\n",
    "        print(\"For iteration \"+str(train)+\" the loss is given by \", [loss.item(), c1*loss_edp.item(), c2*loss_bound.item(), c3*loss_initial.item()])"
   ]
  },
  {
   "cell_type": "code",
   "execution_count": 6,
   "metadata": {},
   "outputs": [],
   "source": [
    "def plot(i, j):\n",
    "    time                = i/(100*t_domain[-1][0].item())\n",
    "    x_data              = torch.linspace(0, 1, 100, device=device).reshape(-1, 1)\n",
    "    t_data              = time*torch.ones(100).reshape_as(x_data).to(device=device)\n",
    "    \n",
    "    bias_x              = torch.ones_like(x_data)\n",
    "    # predicted_solution  = PINN(t_data, x_data)-PINN(t_data, bias_x)\n",
    "    predicted_solution  = PINN(t_data, x_data)\n",
    "\n",
    "    x_data              = x_data.to(device=\"cpu\")\n",
    "    x_data              = x_data.detach().numpy()\n",
    "    predicted_solution  = predicted_solution.to(device=\"cpu\")\n",
    "    predicted_solution  = predicted_solution.detach().numpy()\n",
    "\n",
    "    plt.clf()\n",
    "    plt.plot(x_data, predicted_solution)\n",
    "    plt.plot(x_data, np.zeros(len(x_data)), color='red')\n",
    "    plt.ylim([-0.3, 0.3])\n",
    "    plt.xlabel(u'$x$')\n",
    "    plt.ylabel(u'$u$')\n",
    "    plt.grid()\n",
    "\n",
    "    print('Plot number '+str(i)+' completed')\n",
    "    \n",
    "    if j == 0:\n",
    "        return plt.savefig('images/plot-'+str(i)+'.png', dpi=500)\n",
    "    \n",
    "    else:\n",
    "        return plt.plot()"
   ]
  },
  {
   "cell_type": "code",
   "execution_count": 12,
   "metadata": {},
   "outputs": [
    {
     "name": "stdout",
     "output_type": "stream",
     "text": [
      "Plot number 450 completed\n"
     ]
    },
    {
     "data": {
      "text/plain": [
       "[]"
      ]
     },
     "execution_count": 12,
     "metadata": {},
     "output_type": "execute_result"
    },
    {
     "data": {
      "image/png": "[encoded data removed]",
      "text/plain": [
       "<Figure size 640x480 with 1 Axes>"
      ]
     },
     "metadata": {},
     "output_type": "display_data"
    }
   ],
   "source": [
    "plot(450, 1)"
   ]
  },
  {
   "cell_type": "code",
   "execution_count": 8,
   "metadata": {},
   "outputs": [],
   "source": [
    "# for i in range(501):\n",
    "#     plot(i, 0)"
   ]
  }
 ],
 "metadata": {
  "kernelspec": {
   "display_name": "base",
   "language": "python",
   "name": "python3"
  },
  "language_info": {
   "codemirror_mode": {
    "name": "ipython",
    "version": 3
   },
   "file_extension": ".py",
   "mimetype": "text/x-python",
   "name": "python",
   "nbconvert_exporter": "python",
   "pygments_lexer": "ipython3",
   "version": "3.11.7"
  }
 },
 "nbformat": 4,
 "nbformat_minor": 2
}
